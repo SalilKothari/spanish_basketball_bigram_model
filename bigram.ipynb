{
 "cells": [
  {
   "cell_type": "code",
   "execution_count": 2,
   "id": "b44120ba",
   "metadata": {},
   "outputs": [
    {
     "name": "stdout",
     "output_type": "stream",
     "text": [
      "Requirement already satisfied: torch in /root/miniforge3/envs/bigram_env/lib/python3.10/site-packages (2.8.0)\n",
      "Requirement already satisfied: filelock in /root/miniforge3/envs/bigram_env/lib/python3.10/site-packages (from torch) (3.19.1)\n",
      "Requirement already satisfied: typing-extensions>=4.10.0 in /root/miniforge3/envs/bigram_env/lib/python3.10/site-packages (from torch) (4.15.0)\n",
      "Requirement already satisfied: sympy>=1.13.3 in /root/miniforge3/envs/bigram_env/lib/python3.10/site-packages (from torch) (1.14.0)\n",
      "Requirement already satisfied: networkx in /root/miniforge3/envs/bigram_env/lib/python3.10/site-packages (from torch) (3.4.2)\n",
      "Requirement already satisfied: jinja2 in /root/miniforge3/envs/bigram_env/lib/python3.10/site-packages (from torch) (3.1.6)\n",
      "Requirement already satisfied: fsspec in /root/miniforge3/envs/bigram_env/lib/python3.10/site-packages (from torch) (2025.9.0)\n",
      "Requirement already satisfied: nvidia-cuda-nvrtc-cu12==12.8.93 in /root/miniforge3/envs/bigram_env/lib/python3.10/site-packages (from torch) (12.8.93)\n",
      "Requirement already satisfied: nvidia-cuda-runtime-cu12==12.8.90 in /root/miniforge3/envs/bigram_env/lib/python3.10/site-packages (from torch) (12.8.90)\n",
      "Requirement already satisfied: nvidia-cuda-cupti-cu12==12.8.90 in /root/miniforge3/envs/bigram_env/lib/python3.10/site-packages (from torch) (12.8.90)\n",
      "Requirement already satisfied: nvidia-cudnn-cu12==9.10.2.21 in /root/miniforge3/envs/bigram_env/lib/python3.10/site-packages (from torch) (9.10.2.21)\n",
      "Requirement already satisfied: nvidia-cublas-cu12==12.8.4.1 in /root/miniforge3/envs/bigram_env/lib/python3.10/site-packages (from torch) (12.8.4.1)\n",
      "Requirement already satisfied: nvidia-cufft-cu12==11.3.3.83 in /root/miniforge3/envs/bigram_env/lib/python3.10/site-packages (from torch) (11.3.3.83)\n",
      "Requirement already satisfied: nvidia-curand-cu12==10.3.9.90 in /root/miniforge3/envs/bigram_env/lib/python3.10/site-packages (from torch) (10.3.9.90)\n",
      "Requirement already satisfied: nvidia-cusolver-cu12==11.7.3.90 in /root/miniforge3/envs/bigram_env/lib/python3.10/site-packages (from torch) (11.7.3.90)\n",
      "Requirement already satisfied: nvidia-cusparse-cu12==12.5.8.93 in /root/miniforge3/envs/bigram_env/lib/python3.10/site-packages (from torch) (12.5.8.93)\n",
      "Requirement already satisfied: nvidia-cusparselt-cu12==0.7.1 in /root/miniforge3/envs/bigram_env/lib/python3.10/site-packages (from torch) (0.7.1)\n",
      "Requirement already satisfied: nvidia-nccl-cu12==2.27.3 in /root/miniforge3/envs/bigram_env/lib/python3.10/site-packages (from torch) (2.27.3)\n",
      "Requirement already satisfied: nvidia-nvtx-cu12==12.8.90 in /root/miniforge3/envs/bigram_env/lib/python3.10/site-packages (from torch) (12.8.90)\n",
      "Requirement already satisfied: nvidia-nvjitlink-cu12==12.8.93 in /root/miniforge3/envs/bigram_env/lib/python3.10/site-packages (from torch) (12.8.93)\n",
      "Requirement already satisfied: nvidia-cufile-cu12==1.13.1.3 in /root/miniforge3/envs/bigram_env/lib/python3.10/site-packages (from torch) (1.13.1.3)\n",
      "Requirement already satisfied: triton==3.4.0 in /root/miniforge3/envs/bigram_env/lib/python3.10/site-packages (from torch) (3.4.0)\n",
      "Requirement already satisfied: setuptools>=40.8.0 in /root/miniforge3/envs/bigram_env/lib/python3.10/site-packages (from triton==3.4.0->torch) (80.9.0)\n",
      "Requirement already satisfied: mpmath<1.4,>=1.1.0 in /root/miniforge3/envs/bigram_env/lib/python3.10/site-packages (from sympy>=1.13.3->torch) (1.3.0)\n",
      "Requirement already satisfied: MarkupSafe>=2.0 in /root/miniforge3/envs/bigram_env/lib/python3.10/site-packages (from jinja2->torch) (3.0.2)\n",
      "\u001b[33mWARNING: Running pip as the 'root' user can result in broken permissions and conflicting behaviour with the system package manager, possibly rendering your system unusable. It is recommended to use a virtual environment instead: https://pip.pypa.io/warnings/venv. Use the --root-user-action option if you know what you are doing and want to suppress this warning.\u001b[0m\u001b[33m\n",
      "\u001b[0mNote: you may need to restart the kernel to use updated packages.\n",
      "Requirement already satisfied: beautifulsoup4 in /root/miniforge3/envs/bigram_env/lib/python3.10/site-packages (4.13.5)\n",
      "Requirement already satisfied: lxml in /root/miniforge3/envs/bigram_env/lib/python3.10/site-packages (6.0.2)\n",
      "Requirement already satisfied: soupsieve>1.2 in /root/miniforge3/envs/bigram_env/lib/python3.10/site-packages (from beautifulsoup4) (2.8)\n",
      "Requirement already satisfied: typing-extensions>=4.0.0 in /root/miniforge3/envs/bigram_env/lib/python3.10/site-packages (from beautifulsoup4) (4.15.0)\n",
      "\u001b[33mWARNING: Running pip as the 'root' user can result in broken permissions and conflicting behaviour with the system package manager, possibly rendering your system unusable. It is recommended to use a virtual environment instead: https://pip.pypa.io/warnings/venv. Use the --root-user-action option if you know what you are doing and want to suppress this warning.\u001b[0m\u001b[33m\n",
      "\u001b[0mNote: you may need to restart the kernel to use updated packages.\n",
      "Requirement already satisfied: requests in /root/miniforge3/envs/bigram_env/lib/python3.10/site-packages (2.32.5)\n",
      "Requirement already satisfied: charset_normalizer<4,>=2 in /root/miniforge3/envs/bigram_env/lib/python3.10/site-packages (from requests) (3.4.3)\n",
      "Requirement already satisfied: idna<4,>=2.5 in /root/miniforge3/envs/bigram_env/lib/python3.10/site-packages (from requests) (3.10)\n",
      "Requirement already satisfied: urllib3<3,>=1.21.1 in /root/miniforge3/envs/bigram_env/lib/python3.10/site-packages (from requests) (2.5.0)\n",
      "Requirement already satisfied: certifi>=2017.4.17 in /root/miniforge3/envs/bigram_env/lib/python3.10/site-packages (from requests) (2025.8.3)\n",
      "\u001b[33mWARNING: Running pip as the 'root' user can result in broken permissions and conflicting behaviour with the system package manager, possibly rendering your system unusable. It is recommended to use a virtual environment instead: https://pip.pypa.io/warnings/venv. Use the --root-user-action option if you know what you are doing and want to suppress this warning.\u001b[0m\u001b[33m\n",
      "\u001b[0mNote: you may need to restart the kernel to use updated packages.\n"
     ]
    }
   ],
   "source": [
    "%pip install torch\n",
    "%pip install beautifulsoup4 lxml\n",
    "%pip install requests"
   ]
  },
  {
   "cell_type": "code",
   "execution_count": 22,
   "id": "93339a86",
   "metadata": {},
   "outputs": [],
   "source": [
    "# for scraping\n",
    "from bs4 import BeautifulSoup as bs4\n",
    "import requests\n",
    "import json\n",
    "\n",
    "# for model\n",
    "import torch\n",
    "import torch.nn as nn\n",
    "from torch.nn import functional as f\n",
    "\n",
    "# for translating to english (for fun)\n"
   ]
  },
  {
   "cell_type": "markdown",
   "id": "76c2d627",
   "metadata": {},
   "source": [
    "## Gathering Data"
   ]
  },
  {
   "cell_type": "code",
   "execution_count": 4,
   "id": "23e599ea",
   "metadata": {},
   "outputs": [],
   "source": [
    "website_list = [\"https://www.marca.com/baloncesto/nba/2025/09/22/plan-lakers-nuevo-doncic-asaltar-nba-miman-luka-adelgazar-14-kilos.html\",\n",
    "                \"https://as.com/baloncesto/nba/la-retirada-esta-cerca-pero-aun-no-ha-llegado-n/\",\n",
    "                \"https://www.mundodeportivo.com/baloncesto/nba/20250926/1002539251/nueva-lesion-vuelve-golpear-sixers.html\"\n",
    "                ]"
   ]
  },
  {
   "cell_type": "code",
   "execution_count": null,
   "id": "cf08fce2",
   "metadata": {},
   "outputs": [],
   "source": [
    "def scrape_site_text(url: str, site: str) -> str | None:\n",
    "    \"\"\"\n",
    "    Scapes the main text from the website depending on site [\"marca\", \"as\", \"mundo\"]\n",
    "    \"\"\"\n",
    "\n",
    "\n",
    "    headers = {\n",
    "        \"User-Agent\": \"Mozilla/5.0 (Windows NT 10.0; Win64; x64) \"\n",
    "                      \"AppleWebKit/537.36 (KHTML, like Gecko) \"\n",
    "                      \"Chrome/140.0.0.0 Safari/537.36\"\n",
    "    }\n",
    "\n",
    "    response = requests.get(url, headers=headers)\n",
    "    if response.status_code != 200:\n",
    "        print('Error: Could not fetch page', response.status_code)\n",
    "        return None\n",
    "\n",
    "    soup = bs4(response.text, 'html.parser')\n",
    "\n",
    "    article_text = None\n",
    "\n",
    "    # print(response.text[:500])\n",
    "\n",
    "\n",
    "    match site:\n",
    "        case \"as\":\n",
    "            script = soup.find(\"script\", type=\"application/ld+json\")\n",
    "            \n",
    "            if script and script.string:\n",
    "                try:\n",
    "                    data = json.loads(script.string)\n",
    "                    items = data if isinstance(data, list) else [data]\n",
    "\n",
    "                    for item in items:\n",
    "                        if item.get(\"@type\") == \"NewsArticle\":\n",
    "                            article_text = item.get(\"articleBody\")\n",
    "                            if article_text:\n",
    "                                return article_text.strip()\n",
    "                except Exception as e:\n",
    "                    print(\"JSON parse error:\", e)\n",
    "                    return None\n",
    "\n",
    "    return None"
   ]
  },
  {
   "cell_type": "code",
   "execution_count": 65,
   "id": "a50b291e",
   "metadata": {},
   "outputs": [
    {
     "name": "stdout",
     "output_type": "stream",
     "text": [
      "<class 'bs4.element.Tag'>\n",
      "<class 'bs4.element.Script'>\n",
      "None\n"
     ]
    }
   ],
   "source": [
    "print(scrape_site_text(website_list[1], \"as\"))"
   ]
  }
 ],
 "metadata": {
  "kernelspec": {
   "display_name": "bigram_env",
   "language": "python",
   "name": "python3"
  },
  "language_info": {
   "codemirror_mode": {
    "name": "ipython",
    "version": 3
   },
   "file_extension": ".py",
   "mimetype": "text/x-python",
   "name": "python",
   "nbconvert_exporter": "python",
   "pygments_lexer": "ipython3",
   "version": "3.10.18"
  }
 },
 "nbformat": 4,
 "nbformat_minor": 5
}
